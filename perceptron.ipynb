{
 "cells": [
  {
   "cell_type": "code",
   "execution_count": 1,
   "metadata": {},
   "outputs": [],
   "source": [
    "# http://www.insightsbot.com/blog/C8Fm4/perceptron-algorithm-part-2-python-code-machine-learning-101\n",
    "\n",
    "#required library which holes the iris dataset\n",
    "from sklearn.datasets import load_iris\n",
    "import numpy as np\n",
    "import pandas as pd\n",
    "\n",
    "#load the iris dataset\n",
    "iris = load_iris()\n",
    "#our inputs will contain 2 features\n",
    "X = iris.data[:, [0, 1, 2, 3]]\n",
    "#the labels are the following\n",
    "y = iris.target"
   ]
  },
  {
   "cell_type": "code",
   "execution_count": 2,
   "metadata": {},
   "outputs": [
    {
     "data": {
      "image/png": "[encoded data removed]",
      "text/plain": [
       "<Figure size 432x288 with 1 Axes>"
      ]
     },
     "metadata": {
      "needs_background": "light"
     },
     "output_type": "display_data"
    }
   ],
   "source": [
    "%matplotlib inline\n",
    "import matplotlib.pyplot as plt\n",
    "\n",
    "def plot_scatter(X,y):\n",
    "    colors = [\"red\",\"blue\",\"black\",\"yellow\",\"green\",\"purple\",\"orange\"]\n",
    "    markers = ('s', 'x', 'o', '^', 'v')\n",
    "    \n",
    "    for i, yi in enumerate(np.unique(y)):\n",
    "        Xi = X[y==yi]\n",
    "        plt.scatter(Xi[:,0], Xi[:,1],\n",
    "                        color=colors[i], marker=markers[i], label=yi)\n",
    "    \n",
    "    plt.xlabel('X label')\n",
    "    plt.ylabel('Y label')\n",
    "    plt.legend(loc='upper left')\n",
    "\n",
    "#Generate the Scatterplot\n",
    "plot_scatter(X,y)"
   ]
  },
  {
   "cell_type": "code",
   "execution_count": 3,
   "metadata": {},
   "outputs": [
    {
     "data": {
      "image/png": "[encoded data removed]",
      "text/plain": [
       "<Figure size 432x288 with 1 Axes>"
      ]
     },
     "metadata": {
      "needs_background": "light"
     },
     "output_type": "display_data"
    }
   ],
   "source": [
    "#Classifier for y = 0\n",
    "y = np.where(y == 0, 1, 0)\n",
    "\n",
    "plot_scatter(X,y)"
   ]
  },
  {
   "cell_type": "code",
   "execution_count": 4,
   "metadata": {},
   "outputs": [],
   "source": [
    "class Perceptron(object):\n",
    "\n",
    "    def __init__(self, learningRate=0.01, n_iter=50, random_state=1):\n",
    "        self.learningRate = learningRate\n",
    "        self.n_iter = n_iter\n",
    "        self.random_state = random_state\n",
    "        self.errors_ = []\n",
    "        \n",
    "    def z(self, X):\n",
    "        z = np.dot(X, self.weights[1:]) + self.weights[0] \n",
    "        return z\n",
    "        \n",
    "    def predict(self, X):\n",
    "        return np.where(self.z(X) >= 0.0, 1, 0)\n",
    "    \n",
    "    def fit(self, X, y):\n",
    "        random_generator = np.random.RandomState(self.random_state)\n",
    "        \n",
    "        #Step 0 = Get the shape of the input vector X\n",
    "        #We are adding 1 to the columns for the Bias Term\n",
    "        x_rows, x_columns = X.shape\n",
    "        x_columns = x_columns+1\n",
    "        \n",
    "        #Step 1 - Initialize all weights to 0 or a small random number  \n",
    "        #weight[0] = the weight of the Bias Term\n",
    "        self.weights = random_generator.normal(loc=0.0, scale=0.001, size=x_columns) \n",
    "        \n",
    "        #for how many number of training iterrations where defined\n",
    "        for _ in range(self.n_iter):\n",
    "            errors = 0\n",
    "            for xi, y_actual in zip(X, y):\n",
    "                #create a prediction for the given sample xi\n",
    "                y_predicted = self.predict(xi)\n",
    "                #print(y_actual, y_predicted)\n",
    "                #calculte the delta\n",
    "                delta = self.learningRate*(y_actual - y_predicted)\n",
    "                #update all the weights but the bias\n",
    "                self.weights[1:] += delta * xi\n",
    "                #for the bias delta*1 = delta\n",
    "                self.weights[0] += delta\n",
    "\n",
    "                #if there is an error. Add to the error count for the batch\n",
    "                errors += int(delta != 0.0)\n",
    "\n",
    "            #add the error count of the batch to the errors variable\n",
    "            self.errors_.append(errors)        \n",
    "            \n",
    "    def Errors(self):\n",
    "        return self.errors_"
   ]
  },
  {
   "cell_type": "code",
   "execution_count": 5,
   "metadata": {},
   "outputs": [
    {
     "name": "stdout",
     "output_type": "stream",
     "text": [
      "[2, 2, 1, 0, 0, 0, 0, 0, 0, 0, 0, 0, 0, 0, 0]\n"
     ]
    }
   ],
   "source": [
    "ppn = Perceptron(learningRate=0.1, n_iter=15)\n",
    "ppn.fit(X, y)  \n",
    "print(ppn.errors_)"
   ]
  },
  {
   "cell_type": "code",
   "execution_count": null,
   "metadata": {},
   "outputs": [],
   "source": []
  }
 ],
 "metadata": {
  "kernelspec": {
   "display_name": "Python 3",
   "language": "python",
   "name": "python3"
  },
  "language_info": {
   "codemirror_mode": {
    "name": "ipython",
    "version": 3
   },
   "file_extension": ".py",
   "mimetype": "text/x-python",
   "name": "python",
   "nbconvert_exporter": "python",
   "pygments_lexer": "ipython3",
   "version": "3.7.2"
  }
 },
 "nbformat": 4,
 "nbformat_minor": 2
}
